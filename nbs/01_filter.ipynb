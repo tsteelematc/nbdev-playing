{
 "cells": [
  {
   "cell_type": "markdown",
   "id": "b94a23a6",
   "metadata": {},
   "source": [
    "# filter()\n",
    "> Our first dip into the FP swimming pool..."
   ]
  },
  {
   "cell_type": "code",
   "execution_count": null,
   "id": "3e44cd09",
   "metadata": {},
   "outputs": [],
   "source": [
    "#| default_exp core"
   ]
  },
  {
   "cell_type": "code",
   "execution_count": null,
   "id": "a3cba13f",
   "metadata": {},
   "outputs": [],
   "source": [
    "#| export\n",
    "def filter(\n",
    "    predicate, # lambda for True or False evaluation on each item\n",
    "    list, # List to filter\n",
    "):\n",
    "    \"Returns new list, of the same type as the list being filtered, with possibly fewer items.\"\n",
    "    return []"
   ]
  },
  {
   "cell_type": "markdown",
   "id": "7c2e9c9a",
   "metadata": {},
   "source": [
    "## My typical examples..."
   ]
  },
  {
   "cell_type": "code",
   "execution_count": null,
   "id": "c29e2bc7",
   "metadata": {},
   "outputs": [],
   "source": [
    "grades = [\n",
    "    70, \n",
    "    55.5, \n",
    "    85\n",
    "]"
   ]
  },
  {
   "cell_type": "code",
   "execution_count": null,
   "id": "995c5df6",
   "metadata": {},
   "outputs": [],
   "source": [
    "passing_grades = filter(\n",
    "    lambda x: x >= 70, \n",
    "    grades,\n",
    ")"
   ]
  },
  {
   "cell_type": "code",
   "execution_count": null,
   "id": "d982626a",
   "metadata": {},
   "outputs": [
    {
     "name": "stdout",
     "output_type": "stream",
     "text": [
      "<filter object>\n"
     ]
    }
   ],
   "source": [
    "print(\n",
    "    passing_grades\n",
    ")"
   ]
  },
  {
   "cell_type": "markdown",
   "id": "b8b74a98",
   "metadata": {},
   "source": [
    "Oops, those don't look like grades : - O"
   ]
  },
  {
   "cell_type": "code",
   "execution_count": null,
   "id": "3745c18a",
   "metadata": {},
   "outputs": [
    {
     "name": "stdout",
     "output_type": "stream",
     "text": [
      "[70, 85]\n"
     ]
    }
   ],
   "source": [
    "print(\n",
    "    list(\n",
    "        passing_grades\n",
    "    )\n",
    ")"
   ]
  },
  {
   "cell_type": "markdown",
   "id": "bb44d678",
   "metadata": {},
   "source": [
    "tsteelematc: How about a cell that creates passing_grades_02 using a list comprehension\n",
    "\n",
    "GitHub Copilot: I'll add a new cell that creates `passing_grades_02` using a list comprehension to filter the grades. \n",
    "\n",
    "Edit [](file:///Users/tsteele/Documents/GitHub/2025-fall/nbdev-playing/nbs/01_filter.ipynb)\n",
    "\n",
    "I've added a new cell after the last one that creates `passing_grades_02` using a list comprehension. This cell:\n",
    "\n",
    "1. Uses list comprehension syntax `[grade for grade in grades if grade >= 70]` to filter grades that are 70 or above\n",
    "2. Stores the result in `passing_grades_02`\n",
    "3. Prints the result to show the filtered grades\n",
    "\n",
    "The list comprehension is a more Pythonic and concise way to filter a list compared to using the `filter()` function, and it directly returns a list rather than a filter object.\n",
    "\n",
    "Made changes."
   ]
  },
  {
   "cell_type": "code",
   "execution_count": null,
   "id": "aba4e6d5",
   "metadata": {},
   "outputs": [
    {
     "name": "stdout",
     "output_type": "stream",
     "text": [
      "[70, 85]\n"
     ]
    }
   ],
   "source": [
    "passing_grades_02 = [grade for grade in grades if grade >= 70]\n",
    "print(passing_grades_02)"
   ]
  },
  {
   "cell_type": "markdown",
   "id": "c46ce23f",
   "metadata": {},
   "source": [
    "### idiot-or-genius\n",
    "\n",
    "But I like the way I can copy/paste Copilot MD into a notebook...\n",
    "\n",
    "\"modern\" literate programming by Tom Steele : - )"
   ]
  },
  {
   "cell_type": "markdown",
   "id": "a9d2682b",
   "metadata": {},
   "source": []
  }
 ],
 "metadata": {
  "kernelspec": {
   "display_name": "python3",
   "language": "python",
   "name": "python3"
  }
 },
 "nbformat": 4,
 "nbformat_minor": 5
}
