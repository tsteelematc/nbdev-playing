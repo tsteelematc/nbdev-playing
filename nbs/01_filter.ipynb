{
 "cells": [
  {
   "cell_type": "markdown",
   "id": "b94a23a6",
   "metadata": {},
   "source": [
    "# filter()\n",
    "> Our first dip into the FP swimming pool..."
   ]
  },
  {
   "cell_type": "code",
   "execution_count": null,
   "id": "3e44cd09",
   "metadata": {},
   "outputs": [],
   "source": [
    "#| default_exp core"
   ]
  },
  {
   "cell_type": "code",
   "execution_count": null,
   "id": "a3cba13f",
   "metadata": {},
   "outputs": [],
   "source": [
    "#| export\n",
    "def filter(\n",
    "    predicate, # lambda for True or False evaluation on each item\n",
    "    list, # List to filter\n",
    "):\n",
    "    \"Returns new list, of the same type as the list being filtered, with possibly fewer items.\"\n",
    "    return []"
   ]
  },
  {
   "cell_type": "markdown",
   "id": "7c2e9c9a",
   "metadata": {},
   "source": [
    "## My typical examples..."
   ]
  },
  {
   "cell_type": "code",
   "execution_count": null,
   "id": "c29e2bc7",
   "metadata": {},
   "outputs": [],
   "source": [
    "grades = [\n",
    "    70, \n",
    "    55.5, \n",
    "    85\n",
    "]"
   ]
  },
  {
   "cell_type": "code",
   "execution_count": null,
   "id": "995c5df6",
   "metadata": {},
   "outputs": [],
   "source": [
    "passing_grades = filter(\n",
    "    lambda x: x >= 70, \n",
    "    grades,\n",
    ")"
   ]
  },
  {
   "cell_type": "code",
   "execution_count": null,
   "id": "d982626a",
   "metadata": {},
   "outputs": [
    {
     "name": "stdout",
     "output_type": "stream",
     "text": [
      "<filter object>\n"
     ]
    }
   ],
   "source": [
    "print(\n",
    "    passing_grades\n",
    ")"
   ]
  },
  {
   "cell_type": "markdown",
   "id": "b8b74a98",
   "metadata": {},
   "source": [
    "Oops, those don't look like grades : - O"
   ]
  },
  {
   "cell_type": "code",
   "execution_count": null,
   "id": "3745c18a",
   "metadata": {},
   "outputs": [
    {
     "name": "stdout",
     "output_type": "stream",
     "text": [
      "[70, 85]\n"
     ]
    }
   ],
   "source": [
    "print(\n",
    "    list(\n",
    "        passing_grades\n",
    "    )\n",
    ")"
   ]
  }
 ],
 "metadata": {
  "kernelspec": {
   "display_name": "python3",
   "language": "python",
   "name": "python3"
  }
 },
 "nbformat": 4,
 "nbformat_minor": 5
}
