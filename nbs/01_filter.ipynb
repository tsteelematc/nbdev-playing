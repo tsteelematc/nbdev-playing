{
 "cells": [
  {
   "cell_type": "code",
   "execution_count": null,
   "id": "c29e2bc7",
   "metadata": {},
   "outputs": [],
   "source": [
    "grades = [\n",
    "    70, \n",
    "    55.5, \n",
    "    85\n",
    "]"
   ]
  },
  {
   "cell_type": "code",
   "execution_count": null,
   "id": "995c5df6",
   "metadata": {},
   "outputs": [],
   "source": [
    "passing_grades = filter(\n",
    "    lambda x: x >= 70, \n",
    "    grades,\n",
    ")"
   ]
  },
  {
   "cell_type": "code",
   "execution_count": null,
   "id": "d982626a",
   "metadata": {},
   "outputs": [
    {
     "name": "stdout",
     "output_type": "stream",
     "text": [
      "<filter object>\n"
     ]
    }
   ],
   "source": [
    "print(\n",
    "    passing_grades\n",
    ")"
   ]
  },
  {
   "cell_type": "code",
   "execution_count": null,
   "id": "3745c18a",
   "metadata": {},
   "outputs": [
    {
     "name": "stdout",
     "output_type": "stream",
     "text": [
      "[70, 85]\n"
     ]
    }
   ],
   "source": [
    "print(\n",
    "    list(\n",
    "        passing_grades\n",
    "    )\n",
    ")"
   ]
  }
 ],
 "metadata": {
  "kernelspec": {
   "display_name": "python3",
   "language": "python",
   "name": "python3"
  }
 },
 "nbformat": 4,
 "nbformat_minor": 5
}
